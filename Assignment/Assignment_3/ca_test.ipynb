{
 "cells": [
  {
   "cell_type": "code",
   "execution_count": 25,
   "metadata": {},
   "outputs": [
    {
     "name": "stdout",
     "output_type": "stream",
     "text": [
      "Color Intensity (a.u.)\n",
      "Length (mm)\n",
      "Luminescence Intensity (a.u.)\n",
      "Seed Count\n",
      "Skin Thickness (mm)\n",
      "Soil pH where Grown\n",
      "pH\n"
     ]
    }
   ],
   "source": [
    "from sklearn.linear_model import LinearRegression, Lasso\n",
    "from sklearn.model_selection import train_test_split\n",
    "from sklearn.metrics import mean_squared_error\n",
    "import pandas as pd\n",
    "import numpy as np\n",
    "from sklearn.impute import SimpleImputer\n",
    "\n",
    "# Assuming X_train, X_test, y_train, y_test are your training and testing data\n",
    "\n",
    "df = pd.read_csv(\"assets/train.csv\", index_col=0) # First column as row index\n",
    "columns = df.columns\n",
    "imputer = SimpleImputer(missing_values=np.nan, strategy='mean') # other popular choices: \"median\", \"most_frequent\"\n",
    "imputer.fit(df.values)\n",
    "df = imputer.transform(df.values)\n",
    "df = pd.DataFrame(df, columns=columns)\n",
    "\n",
    "y = df['Edible']\n",
    "X = df.drop('Edible', axis=1) \n",
    "\n",
    "# Split data into training and testing sets\n",
    "X_train, X_test, y_train, y_test = train_test_split(X, y, test_size=0.2, random_state=42)\n",
    "\n",
    "# Train linear regression model\n",
    "linear_reg = LinearRegression()\n",
    "linear_reg.fit(X_train, y_train)\n",
    "\n",
    "# Get coefficients\n",
    "coefficients = linear_reg.coef_\n",
    "\n",
    "# Train Lasso regression model (for feature selection)\n",
    "lasso_reg = Lasso(alpha=0.1)  # Adjust alpha as needed for regularization strength\n",
    "lasso_reg.fit(X_train, y_train)\n",
    "\n",
    "# Get coefficients (some will be zero)\n",
    "lasso_coefficients = lasso_reg.coef_\n",
    "\n",
    "# Permutation feature importance\n",
    "from sklearn.inspection import permutation_importance\n",
    "\n",
    "perm_importance = permutation_importance(linear_reg, X_test, y_test, n_repeats=30)\n",
    "\n",
    "# Get feature importances\n",
    "importances = perm_importance.importances_mean\n",
    "\n",
    "# Now, analyze 'coefficients', 'lasso_coefficients', and 'importances' to identify less important features\n",
    "\n",
    "\n",
    "for i, index in enumerate(lasso_coefficients):\n",
    "    if index == 0:\n",
    "        print(df.columns[i])"
   ]
  },
  {
   "cell_type": "code",
   "execution_count": null,
   "metadata": {},
   "outputs": [],
   "source": []
  }
 ],
 "metadata": {
  "kernelspec": {
   "display_name": "Python 3",
   "language": "python",
   "name": "python3"
  },
  "language_info": {
   "codemirror_mode": {
    "name": "ipython",
    "version": 3
   },
   "file_extension": ".py",
   "mimetype": "text/x-python",
   "name": "python",
   "nbconvert_exporter": "python",
   "pygments_lexer": "ipython3",
   "version": "3.9.6"
  }
 },
 "nbformat": 4,
 "nbformat_minor": 2
}
