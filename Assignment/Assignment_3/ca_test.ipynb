{
 "cells": [
  {
   "cell_type": "code",
   "execution_count": 2,
   "metadata": {},
   "outputs": [],
   "source": [
    "# Importing necessary libraries\n",
    "import pandas as pd\n",
    "import numpy as np\n",
    "from sklearn.model_selection import train_test_split, GridSearchCV\n",
    "from sklearn.preprocessing import StandardScaler\n",
    "from sklearn.ensemble import RandomForestClassifier\n",
    "from sklearn.impute import KNNImputer\n",
    "from sklearn.metrics import accuracy_score"
   ]
  },
  {
   "cell_type": "code",
   "execution_count": 11,
   "metadata": {},
   "outputs": [],
   "source": [
    "\n",
    "# Reading data\n",
    "df = pd.read_csv(\"assets/train.csv\", index_col=0)\n",
    "\n",
    "# Dropping unnecessary columns\n",
    "df.drop(['Find Distance from Main Vulcano (km)', \n",
    "         'Atmospheric Pressure at Harvest (Pa)', \n",
    "         'Magnetic orientation (degree)', \n",
    "         'Soil pH where Grown'], axis=1, inplace=True)\n",
    "\n",
    "# Handling missing values using KNN imputation\n",
    "\n",
    "df_edible = df['Edible']\n",
    "df_rest = df.drop('Edible', axis=1)\n",
    "\n",
    "imputer = KNNImputer(n_neighbors=5)\n",
    "df_imputed = pd.DataFrame(imputer.fit_transform(df_rest), columns=df_rest.columns)\n",
    "\n",
    "#adding back the target variable\n",
    "df_imputed['Edible'] = df_edible\n",
    "\n",
    "# Removing outliers using z-score\n",
    "z_scores = (df_imputed - df_imputed.mean()) / df_imputed.std()\n",
    "df_clean = df_imputed[(np.abs(z_scores) < 5).all(axis=1)]\n"
   ]
  },
  {
   "cell_type": "code",
   "execution_count": 12,
   "metadata": {},
   "outputs": [],
   "source": [
    "# Data splitting\n",
    "X = df_clean.drop(columns=\"Edible\")\n",
    "y = df_clean[\"Edible\"]\n",
    "X_train, X_test, y_train, y_test = train_test_split(X, y, test_size=0.2, random_state=42)\n",
    "\n",
    "# Feature scaling\n",
    "scaler = StandardScaler()\n",
    "X_train_scaled = scaler.fit_transform(X_train)\n",
    "X_test_scaled = scaler.transform(X_test)\n"
   ]
  },
  {
   "cell_type": "code",
   "execution_count": 13,
   "metadata": {},
   "outputs": [
    {
     "name": "stdout",
     "output_type": "stream",
     "text": [
      "Train Accuracy: 1.0\n",
      "Test Accuracy: 0.9020408163265307\n"
     ]
    }
   ],
   "source": [
    "# Model training and hyperparameter tuning using GridSearchCV\n",
    "param_grid = {\n",
    "    'n_estimators': [50, 100, 150],\n",
    "    'max_depth': [None, 10, 20],\n",
    "    'min_samples_split': [2, 5, 10],\n",
    "    'min_samples_leaf': [1, 2, 4]\n",
    "}\n",
    "rf = RandomForestClassifier(random_state=42)\n",
    "grid_search = GridSearchCV(rf, param_grid, cv=5, n_jobs=-1)\n",
    "grid_search.fit(X_train_scaled, y_train)\n",
    "\n",
    "# Best model from grid search\n",
    "best_rf = grid_search.best_estimator_\n",
    "\n",
    "# Model evaluation\n",
    "y_pred_train = best_rf.predict(X_train_scaled)\n",
    "y_pred_test = best_rf.predict(X_test_scaled)\n",
    "train_accuracy = accuracy_score(y_train, y_pred_train)\n",
    "test_accuracy = accuracy_score(y_test, y_pred_test)\n",
    "\n",
    "print(\"Train Accuracy:\", train_accuracy)\n",
    "print(\"Test Accuracy:\", test_accuracy)\n"
   ]
  },
  {
   "cell_type": "code",
   "execution_count": 14,
   "metadata": {},
   "outputs": [],
   "source": [
    "# Kaggle submission\n",
    "df_test = pd.read_csv(\"assets/test.csv\", index_col=0)\n",
    "df_test.drop(['Find Distance from Main Vulcano (km)', \n",
    "              'Atmospheric Pressure at Harvest (Pa)', \n",
    "              'Magnetic orientation (degree)', \n",
    "              'Soil pH where Grown'], axis=1, inplace=True)\n",
    "\n",
    "# Removing outliers using z-score\n",
    "df_test_imputed = pd.DataFrame(imputer.transform(df_test), columns=df_test.columns)\n",
    "\n",
    "z_scores = (df_test_imputed - df_test_imputed.mean()) / df_test_imputed.std()\n",
    "df_test_clean = df_test_imputed[(np.abs(z_scores) < 5).all(axis=1)]\n",
    "\n",
    "df_test_scaled = scaler.transform(df_test)\n",
    "df_test_pred = best_rf.predict(df_test_scaled)\n",
    "df_results = pd.DataFrame(data=df_test_pred.astype(int), columns=[\"Edible\"], index=df_test.index)\n",
    "df_results.index.names = [\"index\"]\n",
    "df_results.to_csv('assets/results.csv')"
   ]
  },
  {
   "cell_type": "code",
   "execution_count": null,
   "metadata": {},
   "outputs": [],
   "source": []
  }
 ],
 "metadata": {
  "kernelspec": {
   "display_name": "Python 3",
   "language": "python",
   "name": "python3"
  },
  "language_info": {
   "codemirror_mode": {
    "name": "ipython",
    "version": 3
   },
   "file_extension": ".py",
   "mimetype": "text/x-python",
   "name": "python",
   "nbconvert_exporter": "python",
   "pygments_lexer": "ipython3",
   "version": "3.9.6"
  }
 },
 "nbformat": 4,
 "nbformat_minor": 2
}
