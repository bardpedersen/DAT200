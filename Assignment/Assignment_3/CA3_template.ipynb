{
 "cells": [
  {
   "cell_type": "markdown",
   "metadata": {},
   "source": [
    "# CA3"
   ]
  },
  {
   "cell_type": "markdown",
   "metadata": {},
   "source": [
    "### Imports"
   ]
  },
  {
   "cell_type": "code",
   "execution_count": 29,
   "metadata": {},
   "outputs": [],
   "source": [
    "import pandas as pd\n",
    "import numpy as np\n",
    "import seaborn as sns\n",
    "import matplotlib.pyplot as plt\n",
    "from sklearn.preprocessing import StandardScaler\n",
    "from sklearn.model_selection import train_test_split\n",
    "from sklearn.linear_model import Perceptron, LogisticRegression\n",
    "from sklearn.neighbors import KNeighborsClassifier\n",
    "from sklearn.tree import DecisionTreeClassifier\n",
    "from sklearn import svm\n",
    "from sklearn.metrics import accuracy_score\n",
    "from sklearn.impute import SimpleImputer\n",
    "from sklearn.ensemble import RandomForestClassifier\n"
   ]
  },
  {
   "cell_type": "markdown",
   "metadata": {},
   "source": [
    "### Reading data"
   ]
  },
  {
   "cell_type": "code",
   "execution_count": 30,
   "metadata": {},
   "outputs": [],
   "source": [
    "df = pd.read_csv(\"assets/train.csv\", index_col=0) # First column as row index"
   ]
  },
  {
   "cell_type": "markdown",
   "metadata": {},
   "source": [
    "### Data exploration and visualisation"
   ]
  },
  {
   "cell_type": "code",
   "execution_count": 31,
   "metadata": {},
   "outputs": [
    {
     "name": "stdout",
     "output_type": "stream",
     "text": [
      "       Acoustic Firmness Index  Atmospheric Pressure at Harvest (Pa)  \\\n",
      "count              1245.000000                           1248.000000   \n",
      "mean                 21.570077                         101327.543269   \n",
      "std                   8.131888                           4772.582203   \n",
      "min                   0.600000                          83825.000000   \n",
      "25%                  17.300000                          98095.750000   \n",
      "50%                  21.300000                         101357.000000   \n",
      "75%                  25.300000                         104470.750000   \n",
      "max                 156.520701                         115636.000000   \n",
      "\n",
      "       Bitterness Scale  Circumference (mm)  Color Intensity (a.u.)  \\\n",
      "count       1244.000000         1246.000000             1248.000000   \n",
      "mean           1.808682          211.046062               63.300962   \n",
      "std            1.960279           24.652278                7.118135   \n",
      "min            0.000000          145.867667               46.060000   \n",
      "25%            0.000000          192.982222               58.577500   \n",
      "50%            1.000000          212.429730               62.390000   \n",
      "75%            3.000000          226.313333               67.202500   \n",
      "max            7.000000          274.719407               97.810000   \n",
      "\n",
      "       Find Distance from Main Vulcano (km)  Length (mm)  \\\n",
      "count                           1246.000000  1244.000000   \n",
      "mean                              44.188204    33.589646   \n",
      "std                               28.331532     3.874355   \n",
      "min                                2.550790    23.451799   \n",
      "25%                               21.203453    30.777936   \n",
      "50%                               38.880858    33.784401   \n",
      "75%                               60.680816    36.049083   \n",
      "max                              109.952511    43.691515   \n",
      "\n",
      "       Luminescence Intensity (a.u.)  Magnetic orientation (degree)  \\\n",
      "count                    1247.000000                    1245.000000   \n",
      "mean                        0.002850                     178.933737   \n",
      "std                         0.003607                     102.113321   \n",
      "min                         0.000004                       0.085357   \n",
      "25%                         0.000627                      90.582930   \n",
      "50%                         0.001757                     180.043851   \n",
      "75%                         0.003767                     266.481765   \n",
      "max                         0.044624                     359.443812   \n",
      "\n",
      "       Odor index (a.u.)   Seed Count  Skin Thickness (mm)  \\\n",
      "count        1246.000000  1247.000000          1247.000000   \n",
      "mean           16.602442    48.926812             3.839615   \n",
      "std            14.882420    35.871733             1.483029   \n",
      "min             1.722825     0.000000             1.000000   \n",
      "25%             7.615908    15.852008             3.000000   \n",
      "50%            12.258785    47.932723             4.000000   \n",
      "75%            20.302048    80.413165             5.000000   \n",
      "max           152.041780   112.968004             8.500000   \n",
      "\n",
      "       Soil pH where Grown  Sugar Content (mg)    Weight (mg)           pH  \\\n",
      "count          1245.000000         1245.000000    1244.000000  1244.000000   \n",
      "mean              7.278739        11835.978313   78446.779224     4.614780   \n",
      "std               0.529815         2417.733775   26637.766132     0.993407   \n",
      "min               5.710000         4566.000000   32352.182600    -5.120000   \n",
      "25%               6.910000        10353.000000   57087.682600     4.174979   \n",
      "50%               7.280000        11807.000000   77440.682600     4.910000   \n",
      "75%               7.660000        13534.000000   92664.102600     5.080000   \n",
      "max               8.980000        18246.000000  164679.342600     6.081918   \n",
      "\n",
      "            Edible  \n",
      "count  1248.000000  \n",
      "mean      0.494391  \n",
      "std       0.500169  \n",
      "min       0.000000  \n",
      "25%       0.000000  \n",
      "50%       0.000000  \n",
      "75%       1.000000  \n",
      "max       1.000000  \n"
     ]
    }
   ],
   "source": [
    "# Visualize the data\n",
    "\"\"\"\n",
    "sns.pairplot(df, hue=\"Edible\")\n",
    "plt.tight_layout()\n",
    "plt.show()\n",
    "\"\"\"\n",
    "\n",
    "print(df.describe())\n"
   ]
  },
  {
   "cell_type": "markdown",
   "metadata": {},
   "source": [
    "### Data cleaning"
   ]
  },
  {
   "cell_type": "code",
   "execution_count": 32,
   "metadata": {},
   "outputs": [
    {
     "name": "stdout",
     "output_type": "stream",
     "text": [
      "True\n"
     ]
    }
   ],
   "source": [
    "# Check for missing data\n",
    "print(df.isnull().values.any()) # print true if it is missing data, since it is false, there is no missing data\n",
    "\n",
    "\n",
    "df = df.drop('Find Distance from Main Vulcano (km)', axis=1) \n",
    "df = df.drop('Atmospheric Pressure at Harvest (Pa)', axis=1) \n",
    "df = df.drop('Magnetic orientation (degree)', axis=1) \n",
    "df = df.drop('Soil pH where Grown', axis=1) \n",
    "\n",
    "columns = df.columns\n",
    "imputer = SimpleImputer(missing_values=np.nan, strategy='mean') # other popular choices: \"median\", \"most_frequent\"\n",
    "imputer.fit(df.values)\n",
    "df = imputer.transform(df.values)\n",
    "df = pd.DataFrame(df, columns=columns)\n",
    "\n",
    "\n",
    "for i in df.columns:\n",
    "    z_scores = (df[i] - np.mean(df[i])) / np.std(df[i])\n",
    "    df_clean = df[np.abs(z_scores) < 1]\n"
   ]
  },
  {
   "cell_type": "markdown",
   "metadata": {},
   "source": [
    "### Data preprocessing and visualisation"
   ]
  },
  {
   "cell_type": "code",
   "execution_count": 33,
   "metadata": {},
   "outputs": [],
   "source": [
    "y = df[\"Edible\"]\n",
    "X = df.drop(columns=\"Edible\")\n",
    "\n",
    "X_train, X_test, y_train, y_test = train_test_split(X, y, random_state=0, stratify=y)\n",
    "\n",
    "sc = StandardScaler()\n",
    "sc.fit(X_train)\n",
    "\n",
    "X_train_sc = sc.transform(X_train)\n",
    "X_test_sc = sc.transform(X_test)"
   ]
  },
  {
   "cell_type": "markdown",
   "metadata": {},
   "source": [
    "### Modelling"
   ]
  },
  {
   "cell_type": "code",
   "execution_count": 34,
   "metadata": {},
   "outputs": [
    {
     "name": "stdout",
     "output_type": "stream",
     "text": [
      "rf 0.7852564102564102 1\n",
      "rf 0.7980769230769231 2\n",
      "rf 0.8493589743589743 3\n"
     ]
    },
    {
     "name": "stdout",
     "output_type": "stream",
     "text": [
      "rf 0.8557692307692307 4\n",
      "rf 0.8589743589743589 5\n",
      "rf 0.8653846153846154 6\n",
      "rf 0.8814102564102564 7\n",
      "rf 0.8814102564102564 8\n",
      "rf 0.8846153846153846 9\n",
      "rf 0.8910256410256411 10\n",
      "rf 0.9006410256410257 11\n",
      "rf 0.8846153846153846 12\n",
      "rf 0.9006410256410257 13\n",
      "rf 0.9038461538461539 14\n",
      "rf 0.907051282051282 15\n",
      "rf 0.9166666666666666 16\n",
      "rf 0.9134615384615384 17\n",
      "rf 0.9102564102564102 18\n",
      "rf 0.9102564102564102 19\n",
      "rf 0.9198717948717948 20\n",
      "rf 0.9198717948717948 21\n",
      "rf 0.9134615384615384 22\n",
      "rf 0.9166666666666666 23\n",
      "rf 0.9230769230769231 24\n",
      "rf 0.9166666666666666 25\n",
      "rf 0.9166666666666666 26\n",
      "rf 0.9230769230769231 27\n",
      "rf 0.9198717948717948 28\n",
      "rf 0.9230769230769231 29\n",
      "rf 0.9230769230769231 30\n",
      "rf 0.9198717948717948 31\n",
      "rf 0.9198717948717948 32\n",
      "rf 0.9198717948717948 33\n",
      "rf 0.9198717948717948 34\n",
      "rf 0.9166666666666666 35\n",
      "rf 0.9262820512820513 36\n",
      "rf 0.9262820512820513 37\n",
      "rf 0.9230769230769231 38\n",
      "rf 0.9294871794871795 39\n",
      "rf 0.9230769230769231 40\n",
      "rf 0.9198717948717948 41\n",
      "rf 0.9166666666666666 42\n",
      "rf 0.9198717948717948 43\n",
      "rf 0.9230769230769231 44\n",
      "rf 0.9198717948717948 45\n",
      "rf 0.9198717948717948 46\n",
      "rf 0.9262820512820513 47\n",
      "rf 0.9230769230769231 48\n",
      "rf 0.9230769230769231 49\n",
      "rf 0.9198717948717948 50\n",
      "rf 0.9230769230769231 51\n",
      "rf 0.9198717948717948 52\n",
      "rf 0.9166666666666666 53\n",
      "rf 0.9134615384615384 54\n",
      "rf 0.9134615384615384 55\n",
      "rf 0.9166666666666666 56\n",
      "rf 0.9198717948717948 57\n",
      "rf 0.9166666666666666 58\n",
      "rf 0.9166666666666666 59\n",
      "rf 0.9198717948717948 60\n",
      "rf 0.9198717948717948 61\n",
      "rf 0.9198717948717948 62\n",
      "rf 0.9166666666666666 63\n",
      "rf 0.9198717948717948 64\n",
      "rf 0.9198717948717948 65\n",
      "rf 0.9198717948717948 66\n",
      "rf 0.9198717948717948 67\n",
      "rf 0.9198717948717948 68\n",
      "rf 0.9198717948717948 69\n",
      "rf 0.9198717948717948 70\n",
      "rf 0.9198717948717948 71\n",
      "rf 0.9198717948717948 72\n",
      "rf 0.9198717948717948 73\n",
      "rf 0.9198717948717948 74\n",
      "rf 0.9198717948717948 75\n",
      "rf 0.9198717948717948 76\n",
      "rf 0.9198717948717948 77\n",
      "rf 0.9198717948717948 78\n",
      "rf 0.9230769230769231 79\n",
      "rf 0.9198717948717948 80\n",
      "rf 0.9262820512820513 81\n",
      "rf 0.9198717948717948 82\n",
      "rf 0.9230769230769231 83\n",
      "rf 0.9166666666666666 84\n",
      "rf 0.9198717948717948 85\n",
      "rf 0.9166666666666666 86\n",
      "rf 0.9134615384615384 87\n",
      "rf 0.9134615384615384 88\n",
      "rf 0.9166666666666666 89\n",
      "rf 0.9166666666666666 90\n",
      "rf 0.9198717948717948 91\n",
      "rf 0.9166666666666666 92\n",
      "rf 0.9166666666666666 93\n",
      "rf 0.9166666666666666 94\n",
      "rf 0.9166666666666666 95\n",
      "rf 0.9134615384615384 96\n",
      "rf 0.9134615384615384 97\n",
      "rf 0.9134615384615384 98\n",
      "rf 0.9134615384615384 99\n"
     ]
    },
    {
     "data": {
      "text/plain": [
       "'\\nsvmlin = svm.SVC(kernel=\"linear\", C=1000)\\nsvmlin.fit(X_train, y_train)\\nprint(svmlin.score(X_test, y_test))\\n\\nsvmpol = svm.SVC(kernel=\"poly\", degree=5, C=1000)\\nsvmpol.fit(X_train, y_train)\\nprint(svmpol.score(X_test, y_test))\\n\\nsvm.SVC(kernel=\"rbf\", gamma=0.3, C=1000)\\nsvmpol.fit(X_train, y_train)\\nprint(svmpol.score(X_test, y_test))\\n'"
      ]
     },
     "execution_count": 34,
     "metadata": {},
     "output_type": "execute_result"
    }
   ],
   "source": [
    "\n",
    "\"\"\"\n",
    "for i in range(10, 1000):\n",
    "    ppn = Perceptron(max_iter=i, eta0=0.0001, random_state=0)\n",
    "    ppn.fit(X_train_sc, y_train)\n",
    "    y_pred = ppn.predict(X_test_sc)\n",
    "    print(\"pp\", accuracy_score(y_test, y_pred), i)\n",
    "\n",
    "for i in range(10, 1000):\n",
    "    lg = LogisticRegression(max_iter=i, penalty=None)\n",
    "    lg.fit(X_train_sc, y_train)\n",
    "    y_pred = lg.predict(X_test_sc)\n",
    "    print(\"lg\", accuracy_score(y_test, y_pred), i)\n",
    "\n",
    "for i in range(10, 1000):\n",
    "    lg = LogisticRegression(max_iter=i, penalty=\"l2\")\n",
    "    lg.fit(X_train_sc, y_train)\n",
    "    y_pred = lg.predict(X_test_sc)\n",
    "    print(\"lg\", accuracy_score(y_test, y_pred), i, \"pen\")\n",
    "\n",
    "for i in range(3, 200):\n",
    "    knn = KNeighborsClassifier(n_neighbors=i)\n",
    "    knn.fit(X_train_sc, y_train)\n",
    "    y_pred = knn.predict(X_test_sc)\n",
    "    print(\"knn\", accuracy_score(y_test, y_pred), i)\n",
    "\n",
    "for i in range(1, 100):\n",
    "    dtc = DecisionTreeClassifier(max_depth=1000, criterion='gini', min_samples_leaf=j)\n",
    "    dtc.fit(X_train_sc, y_train)\n",
    "    y_pred = dtc.predict(X_test_sc)\n",
    "    print(\"dtc\", accuracy_score(y_test, y_pred), i, j)\n",
    "\n",
    "for i in range(1, 100):\n",
    "    dtc = DecisionTreeClassifier(max_depth=1000, criterion='gini', min_samples_leaf=j)\n",
    "    dtc.fit(X_train, y_train)\n",
    "    y_pred = dtc.predict(X_test)\n",
    "    print(\"dtc\", accuracy_score(y_test, y_pred), i)\n",
    "\n",
    "\"\"\"\n",
    "\n",
    "for i in range(1, 100):\n",
    "    rf = RandomForestClassifier(n_estimators=i, random_state=22) #37, 22\n",
    "    rf.fit(X_train_sc, y_train)\n",
    "    y_pred = rf.predict(X_test_sc)\n",
    "    print(\"rf\", accuracy_score(y_test, y_pred), i)\n",
    "\n",
    "\n",
    "\"\"\"\n",
    "svmlin = svm.SVC(kernel=\"linear\", C=1000)\n",
    "svmlin.fit(X_train, y_train)\n",
    "print(svmlin.score(X_test, y_test))\n",
    "\n",
    "svmpol = svm.SVC(kernel=\"poly\", degree=5, C=1000)\n",
    "svmpol.fit(X_train, y_train)\n",
    "print(svmpol.score(X_test, y_test))\n",
    "\n",
    "svm.SVC(kernel=\"rbf\", gamma=0.3, C=1000)\n",
    "svmpol.fit(X_train, y_train)\n",
    "print(svmpol.score(X_test, y_test))\n",
    "\"\"\""
   ]
  },
  {
   "cell_type": "markdown",
   "metadata": {},
   "source": [
    "### Final evaluation"
   ]
  },
  {
   "cell_type": "code",
   "execution_count": 35,
   "metadata": {},
   "outputs": [
    {
     "name": "stdout",
     "output_type": "stream",
     "text": [
      "1.0\n"
     ]
    }
   ],
   "source": [
    "df = pd.read_csv(\"assets/train.csv\", index_col=0) # First column as row index\n",
    "\n",
    "\n",
    "df = df.drop('Find Distance from Main Vulcano (km)', axis=1) \n",
    "df = df.drop('Atmospheric Pressure at Harvest (Pa)', axis=1) \n",
    "df = df.drop('Magnetic orientation (degree)', axis=1) \n",
    "df = df.drop('Soil pH where Grown', axis=1) \n",
    "\n",
    "columns = df.columns\n",
    "imputer = SimpleImputer(missing_values=np.nan, strategy='mean') # other popular choices: \"median\", \"most_frequent\"\n",
    "imputer.fit(df.values)\n",
    "df = imputer.transform(df.values)\n",
    "df = pd.DataFrame(df, columns=columns)\n",
    "\n",
    "for i in df.columns:\n",
    "    z_scores = (df[i] - np.mean(df[i])) / np.std(df[i])\n",
    "    df_clean = df[np.abs(z_scores) < 1]\n",
    "\n",
    "\n",
    "df_y = df[\"Edible\"]\n",
    "df_x = df.drop(columns=\"Edible\")\n",
    "\n",
    "sc = StandardScaler()\n",
    "sc.fit(df_x)\n",
    "\n",
    "df_x_sc = sc.transform(df_x)\n",
    "\n",
    "#knn = KNeighborsClassifier(n_neighbors=6)\n",
    "#knn = DecisionTreeClassifier(max_depth=100, criterion='gini', min_samples_leaf=11)\n",
    "knn = RandomForestClassifier(n_estimators=39, random_state=22) # 50, 87\n",
    "\n",
    "\n",
    "knn.fit(df_x_sc, df_y)\n",
    "\n",
    "df_train_ped = knn.predict(df_x_sc)\n",
    "print(accuracy_score(df_train_ped, df_y))"
   ]
  },
  {
   "cell_type": "markdown",
   "metadata": {},
   "source": [
    "### Kaggle submission"
   ]
  },
  {
   "cell_type": "code",
   "execution_count": 36,
   "metadata": {},
   "outputs": [],
   "source": [
    "df = pd.read_csv(\"assets/test.csv\", index_col=0)\n",
    "\n",
    "\n",
    "df = df.drop('Find Distance from Main Vulcano (km)', axis=1) \n",
    "df = df.drop('Atmospheric Pressure at Harvest (Pa)', axis=1) \n",
    "df = df.drop('Magnetic orientation (degree)', axis=1) \n",
    "df = df.drop('Soil pH where Grown', axis=1) \n",
    "\n",
    "columns = df.columns\n",
    "imputer = SimpleImputer(missing_values=np.nan, strategy='mean') # other popular choices: \"median\", \"most_frequent\"\n",
    "imputer.fit(df.values)\n",
    "df = imputer.transform(df.values)\n",
    "df = pd.DataFrame(df, columns=columns)\n",
    "\n",
    "for i in df.columns:\n",
    "    z_scores = (df[i] - np.mean(df[i])) / np.std(df[i])\n",
    "    df_clean = df[np.abs(z_scores) < 1]\n",
    "\n",
    "df_test_sc = sc.transform(df)\n",
    "\n",
    "df_test_pred = knn.predict(df_test_sc)\n",
    "\n",
    "df_results = pd.DataFrame(data=df_test_pred.astype(int), columns=[\"Edible\"])\n",
    "df_results.index.names = [\"index\"]\n",
    "\n",
    "df_results.to_csv('assets/results.csv')\n"
   ]
  },
  {
   "cell_type": "code",
   "execution_count": null,
   "metadata": {},
   "outputs": [],
   "source": []
  }
 ],
 "metadata": {
  "kernelspec": {
   "display_name": "Python 3",
   "language": "python",
   "name": "python3"
  },
  "language_info": {
   "codemirror_mode": {
    "name": "ipython",
    "version": 3
   },
   "file_extension": ".py",
   "mimetype": "text/x-python",
   "name": "python",
   "nbconvert_exporter": "python",
   "pygments_lexer": "ipython3",
   "version": "3.9.6"
  }
 },
 "nbformat": 4,
 "nbformat_minor": 2
}
