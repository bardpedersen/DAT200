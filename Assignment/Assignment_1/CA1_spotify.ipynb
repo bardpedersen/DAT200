{
 "cells": [
  {
   "cell_type": "markdown",
   "metadata": {},
   "source": [
    "# CA1: Dataframe Manipulation with Spotify Data"
   ]
  },
  {
   "cell_type": "markdown",
   "metadata": {},
   "source": [
    "## Introduction\n",
    "Pandas is an extremely powerful tool to handle large amounts of tabular data. In this compulsory assignment, you will use Pandas to explore one of the TA's personal spotify data in depth. \\\n",
    "\\\n",
    "Additional information:\n",
    "- Feel free to create additional code cells if you feel that one cell per subtask is not sufficient.\n",
    "- Remember, Pandas uses very efficient code to handle large amounts of data. For-loops are not efficient. If you ever have to use a for-loop to loop over the rows in the DataFrame, you have *probably* done something wrong.\n",
    "- Label all graphs and charts if applicable."
   ]
  },
  {
   "cell_type": "markdown",
   "metadata": {},
   "source": [
    "## Task\n",
    "I typically enjoy indie and rock music. I am a big fan of everything from old-fashioned rock and roll like Led Zeppelin and Jimi Hendrix, to newer indie artists like Joji and Lana Del Rey. This is why my spotify wrapped for 2023 came as quite a surprise:"
   ]
  },
  {
   "cell_type": "markdown",
   "metadata": {},
   "source": [
    "<img src=\"spotifywrapped.PNG\" alt=\"Image Description\" width=\"20%\">\n"
   ]
  },
  {
   "cell_type": "markdown",
   "metadata": {},
   "source": [
    "Now, I'm no hater of pop music, but this was unexpected. \n",
    "For this assignment, you will investigate my listening habits, including a deep dive into my Ariana Grande listening habits, and try to find an answer to why she was my top artist; was there a fault in the spotify algorithm? Am I actually secretly an *Arianator*? (yes, I did have to look that up). Or am I just lying to myself about how often I listen to guilty pleasure music?"
   ]
  },
  {
   "cell_type": "markdown",
   "metadata": {},
   "source": [
    "## Part 1: Initial loading and exploration"
   ]
  },
  {
   "cell_type": "markdown",
   "metadata": {},
   "source": [
    "#### 1.0 Import necessary libraries: \n",
    "pandas, numpy, matplotlib.pyplot (other libraries such as seaborn or plotly are also allowed if you want prettier plots). It might also be a good idea to use **os** for task 2.0"
   ]
  },
  {
   "cell_type": "code",
   "execution_count": 378,
   "metadata": {},
   "outputs": [],
   "source": [
    "import matplotlib.pyplot as plt\n",
    "# ---- Insert other imports ----\n",
    "import pandas as pd\n",
    "import numpy as np"
   ]
  },
  {
   "cell_type": "markdown",
   "metadata": {},
   "source": [
    "#### 1.1 Loading the data\n",
    "Load the dataset in the file `streaming_history_0.csv` into a Pandas DataFrame called `df_spotify_0`."
   ]
  },
  {
   "cell_type": "code",
   "execution_count": 379,
   "metadata": {},
   "outputs": [],
   "source": [
    "df_spotify_0 = pd.read_csv('spotify_data/streaminghistory0.csv')\n"
   ]
  },
  {
   "cell_type": "markdown",
   "metadata": {},
   "source": [
    "#### 1.2 Help function\n",
    "Use the Python command `help` to help you understand how to use the `pd.DataFrame.head` and `pd.DataFrame.tail` methods."
   ]
  },
  {
   "cell_type": "code",
   "execution_count": 380,
   "metadata": {},
   "outputs": [
    {
     "name": "stdout",
     "output_type": "stream",
     "text": [
      "Help on function tail in module pandas.core.generic:\n",
      "\n",
      "tail(self, n: 'int' = 5) -> 'Self'\n",
      "    Return the last `n` rows.\n",
      "    \n",
      "    This function returns last `n` rows from the object based on\n",
      "    position. It is useful for quickly verifying data, for example,\n",
      "    after sorting or appending rows.\n",
      "    \n",
      "    For negative values of `n`, this function returns all rows except\n",
      "    the first `|n|` rows, equivalent to ``df[|n|:]``.\n",
      "    \n",
      "    If n is larger than the number of rows, this function returns all rows.\n",
      "    \n",
      "    Parameters\n",
      "    ----------\n",
      "    n : int, default 5\n",
      "        Number of rows to select.\n",
      "    \n",
      "    Returns\n",
      "    -------\n",
      "    type of caller\n",
      "        The last `n` rows of the caller object.\n",
      "    \n",
      "    See Also\n",
      "    --------\n",
      "    DataFrame.head : The first `n` rows of the caller object.\n",
      "    \n",
      "    Examples\n",
      "    --------\n",
      "    >>> df = pd.DataFrame({'animal': ['alligator', 'bee', 'falcon', 'lion',\n",
      "    ...                    'monkey', 'parrot', 'shark', 'whale', 'zebra']})\n",
      "    >>> df\n",
      "          animal\n",
      "    0  alligator\n",
      "    1        bee\n",
      "    2     falcon\n",
      "    3       lion\n",
      "    4     monkey\n",
      "    5     parrot\n",
      "    6      shark\n",
      "    7      whale\n",
      "    8      zebra\n",
      "    \n",
      "    Viewing the last 5 lines\n",
      "    \n",
      "    >>> df.tail()\n",
      "       animal\n",
      "    4  monkey\n",
      "    5  parrot\n",
      "    6   shark\n",
      "    7   whale\n",
      "    8   zebra\n",
      "    \n",
      "    Viewing the last `n` lines (three in this case)\n",
      "    \n",
      "    >>> df.tail(3)\n",
      "      animal\n",
      "    6  shark\n",
      "    7  whale\n",
      "    8  zebra\n",
      "    \n",
      "    For negative values of `n`\n",
      "    \n",
      "    >>> df.tail(-3)\n",
      "       animal\n",
      "    3    lion\n",
      "    4  monkey\n",
      "    5  parrot\n",
      "    6   shark\n",
      "    7   whale\n",
      "    8   zebra\n",
      "\n",
      "Help on function head in module pandas.core.generic:\n",
      "\n",
      "head(self, n: 'int' = 5) -> 'Self'\n",
      "    Return the first `n` rows.\n",
      "    \n",
      "    This function returns the first `n` rows for the object based\n",
      "    on position. It is useful for quickly testing if your object\n",
      "    has the right type of data in it.\n",
      "    \n",
      "    For negative values of `n`, this function returns all rows except\n",
      "    the last `|n|` rows, equivalent to ``df[:n]``.\n",
      "    \n",
      "    If n is larger than the number of rows, this function returns all rows.\n",
      "    \n",
      "    Parameters\n",
      "    ----------\n",
      "    n : int, default 5\n",
      "        Number of rows to select.\n",
      "    \n",
      "    Returns\n",
      "    -------\n",
      "    same type as caller\n",
      "        The first `n` rows of the caller object.\n",
      "    \n",
      "    See Also\n",
      "    --------\n",
      "    DataFrame.tail: Returns the last `n` rows.\n",
      "    \n",
      "    Examples\n",
      "    --------\n",
      "    >>> df = pd.DataFrame({'animal': ['alligator', 'bee', 'falcon', 'lion',\n",
      "    ...                    'monkey', 'parrot', 'shark', 'whale', 'zebra']})\n",
      "    >>> df\n",
      "          animal\n",
      "    0  alligator\n",
      "    1        bee\n",
      "    2     falcon\n",
      "    3       lion\n",
      "    4     monkey\n",
      "    5     parrot\n",
      "    6      shark\n",
      "    7      whale\n",
      "    8      zebra\n",
      "    \n",
      "    Viewing the first 5 lines\n",
      "    \n",
      "    >>> df.head()\n",
      "          animal\n",
      "    0  alligator\n",
      "    1        bee\n",
      "    2     falcon\n",
      "    3       lion\n",
      "    4     monkey\n",
      "    \n",
      "    Viewing the first `n` lines (three in this case)\n",
      "    \n",
      "    >>> df.head(3)\n",
      "          animal\n",
      "    0  alligator\n",
      "    1        bee\n",
      "    2     falcon\n",
      "    \n",
      "    For negative values of `n`\n",
      "    \n",
      "    >>> df.head(-3)\n",
      "          animal\n",
      "    0  alligator\n",
      "    1        bee\n",
      "    2     falcon\n",
      "    3       lion\n",
      "    4     monkey\n",
      "    5     parrot\n",
      "\n"
     ]
    }
   ],
   "source": [
    "help(pd.DataFrame.tail)\n",
    "help(pd.DataFrame.head)"
   ]
  },
  {
   "cell_type": "markdown",
   "metadata": {},
   "source": [
    "#### 1.3 Getting an overview\n",
    "Print the first `five` and last `ten` rows of the dataframe. Have a quick look at which columns are in the dataset. "
   ]
  },
  {
   "cell_type": "code",
   "execution_count": 381,
   "metadata": {},
   "outputs": [
    {
     "name": "stdout",
     "output_type": "stream",
     "text": [
      "            endTime            artistName                        trackName  \\\n",
      "0  2022-12-03 02:02  Cigarettes After Sex                            Truly   \n",
      "1  2022-12-03 02:02         Leonard Cohen  Take This Waltz - Paris Version   \n",
      "2  2022-12-06 21:05          Vlad Holiday                 So Damn Into You   \n",
      "3  2022-12-06 21:05                 Lorde                             Team   \n",
      "4  2022-12-06 21:05         Ariana Grande                         Into You   \n",
      "\n",
      "   msPlayed  \n",
      "0   30000.0  \n",
      "1    8210.0  \n",
      "2   37895.0  \n",
      "3    8984.0  \n",
      "4    1221.0  \n",
      "                endTime         artistName                     trackName  \\\n",
      "11949  2023-01-02 20:58      Ariana Grande                    six thirty   \n",
      "11950  2023-01-02 20:58      Leonard Cohen          Thanks for the Dance   \n",
      "11951  2023-01-02 20:59           Des Rocs          Used to the Darkness   \n",
      "11952  2023-01-02 20:59  Caroline Polachek         Hit Me Where It Hurts   \n",
      "11953  2023-01-02 20:59  Caroline Polachek         Hit Me Where It Hurts   \n",
      "11954  2023-01-02 20:59  Kaizers Orchestra                   Resistansen   \n",
      "11955  2023-01-02 20:59           Mr.Kitty                    After Dark   \n",
      "11956  2023-01-02 20:59       daddy's girl  after dark x sweater weather   \n",
      "11957  2023-01-02 20:59       daddy's girl  after dark x sweater weather   \n",
      "11958  2023-01-02 20:59       daddy's girl  after dark x sweater weather   \n",
      "\n",
      "       msPlayed  \n",
      "11949    1699.0  \n",
      "11950   19483.0  \n",
      "11951     185.0  \n",
      "11952     603.0  \n",
      "11953     208.0  \n",
      "11954     208.0  \n",
      "11955  101447.0  \n",
      "11956     301.0  \n",
      "11957     208.0  \n",
      "11958     789.0  \n"
     ]
    }
   ],
   "source": [
    "print(df_spotify_0.head(5))\n",
    "print(df_spotify_0.tail(10))"
   ]
  },
  {
   "cell_type": "markdown",
   "metadata": {},
   "source": [
    "#### 1.4 Formatting correctly\n",
    "When working with Pandas, it's very useful to have columns which contains dates in a specific format called *datetime*. This allows for efficient manipulation and analysis of time-series data, such as sorting, filtering by date or time, and resampling for different time periods. Figure out which column(s) would be appropriate to convert to datetime, if any, and if so, perform the conversion to the correct format."
   ]
  },
  {
   "cell_type": "code",
   "execution_count": 382,
   "metadata": {},
   "outputs": [],
   "source": [
    "\n",
    "df_spotify_0['endTime']= pd.to_datetime(df_spotify_0['endTime'])"
   ]
  },
  {
   "cell_type": "markdown",
   "metadata": {},
   "source": [
    "#### 1.5 Unique artists\n",
    "Find how many unique artists are in the dataset.\n"
   ]
  },
  {
   "cell_type": "code",
   "execution_count": 383,
   "metadata": {},
   "outputs": [
    {
     "data": {
      "text/plain": [
       "495"
      ]
     },
     "execution_count": 383,
     "metadata": {},
     "output_type": "execute_result"
    }
   ],
   "source": [
    "len(df_spotify_0['artistName'].unique())"
   ]
  },
  {
   "cell_type": "markdown",
   "metadata": {},
   "source": [
    "#### 1.6 Unique songs\n",
    "Find how many unique songs are in the dataset."
   ]
  },
  {
   "cell_type": "code",
   "execution_count": 384,
   "metadata": {},
   "outputs": [
    {
     "data": {
      "text/plain": [
       "1308"
      ]
     },
     "execution_count": 384,
     "metadata": {},
     "output_type": "execute_result"
    }
   ],
   "source": [
    "len(df_spotify_0['trackName'].unique())"
   ]
  },
  {
   "cell_type": "markdown",
   "metadata": {},
   "source": [
    "### Part 1: Questions\n",
    "Q1: Which columns are in the dataset?\n",
    "\n",
    "Q2: What timeframe does the dataset span?\n",
    "\n",
    "Q3: How many unique artists are in the dataset?\n",
    "\n",
    "Q4: How many unique songs are in the dataset?"
   ]
  },
  {
   "cell_type": "markdown",
   "metadata": {},
   "source": [
    "### Part 1: Answers\n",
    "\n",
    "##### Q1\n",
    "\n",
    "endTime, artistName, trackName, msPlayed\n",
    "\n",
    "##### Q2\n",
    "\n",
    "`print(df_spotify_0['endTime'].max())`  \n",
    "`print(df_spotify_0['endTime'].min())`  \n",
    "`print(df_spotify_0['endTime'].max() - df_spotify_0['endTime'].min())`  \n",
    "\n",
    "Played between 2022-12-03 02:02:00 and 2023-01-02 20:59:00 with a total time of 30 days and 18 hours and 57 minutes\n",
    "\n",
    "##### Q3\n",
    "495 uniqe artists\n",
    "\n",
    "##### Q4\n",
    "1308 different songs"
   ]
  },
  {
   "cell_type": "markdown",
   "metadata": {},
   "source": [
    "## Part 2: Working with all the data"
   ]
  },
  {
   "cell_type": "markdown",
   "metadata": {},
   "source": [
    "#### 2.0 Importing all the dataframes\n",
    "In Task 1, you only worked with about a month worth of data. Now, you will work with over a year worth. \n",
    "\n",
    "In the *spotify_data* folder, there is more than just one listening record. Load each of the 14 listening records into a dataframe (1 dataframe per listening record), and concatenate them together into one large dataframe named `df`."
   ]
  },
  {
   "cell_type": "code",
   "execution_count": 385,
   "metadata": {},
   "outputs": [],
   "source": [
    "files = 14\n",
    "li = []\n",
    "for i in range(files):\n",
    "    file = 'spotify_data/streaminghistory' + str(i) + '.csv'\n",
    "    df_spotify = pd.read_csv(file)\n",
    "    li.append(df_spotify)\n",
    "\n",
    "df = pd.concat(li, axis=0, ignore_index=True)"
   ]
  },
  {
   "cell_type": "markdown",
   "metadata": {},
   "source": [
    "#### 2.1 Sorting by time\n",
    "Datasets often aren't perfect. One example of an issue that could occur is that the time-based data might not be in chronological order. If this were to happen, the rows in your dataframe could be in the wrong order. To ensure this isn't an issue in your dataframe, you should sort the dataframe in chronological order, from oldest to newest."
   ]
  },
  {
   "cell_type": "code",
   "execution_count": 386,
   "metadata": {},
   "outputs": [],
   "source": [
    "df = df.sort_values(by='endTime')"
   ]
  },
  {
   "cell_type": "markdown",
   "metadata": {},
   "source": [
    "#### 2.2 Setting a timeframe\n",
    "For this investigation, we are only interested in investigating listening patterns from **2023**. Remove any data not from **2023** from the DataFrame."
   ]
  },
  {
   "cell_type": "code",
   "execution_count": 387,
   "metadata": {},
   "outputs": [],
   "source": [
    "df = df[(df['endTime'] > '2023-01-01')]"
   ]
  },
  {
   "cell_type": "markdown",
   "metadata": {},
   "source": [
    "#### 2.3 Deleting rows\n",
    "Often in Data Science, you will encounter when a row entry has the value *NaN*, indicating missing data. These entries can skew your analysis, leading to inaccurate conclusions. For this task, identify and remove any rows in your DataFrame that contain NaN values. \\\n",
    "Later in the course, you might encounter other techniques of dealing with missing data, typically reffered to as *data imputation*. Here, though, you are just supposed to delete the entire rows with missing data."
   ]
  },
  {
   "cell_type": "code",
   "execution_count": 388,
   "metadata": {},
   "outputs": [],
   "source": [
    "df = df.dropna()"
   ]
  },
  {
   "cell_type": "markdown",
   "metadata": {},
   "source": [
    "#### 2.4 Convert from milliseconds to seconds\n",
    "From `msPlayed`, create a new column `secPlayed` with the data converted from milliseconds to seconds. Then delete the column `msPlayed`."
   ]
  },
  {
   "cell_type": "code",
   "execution_count": 389,
   "metadata": {},
   "outputs": [],
   "source": [
    "df['secPlayed']= (df['msPlayed'] / 1000)\n",
    "df = df.drop(['msPlayed'], axis=1)"
   ]
  },
  {
   "cell_type": "markdown",
   "metadata": {},
   "source": [
    "#### 2.5 Finding top 10 favorite artists\n",
    "Find the top `ten` artists with the highest total play time (in seconds). Plot your findings in a bar graph. \\\n",
    "(hint: start by creating a new DataFrame with only `artistName` and your time column. To proceed, you will also likely need the `groupby` command from Pandas.)"
   ]
  },
  {
   "cell_type": "code",
   "execution_count": 390,
   "metadata": {},
   "outputs": [
    {
     "data": {
      "text/plain": [
       "<Axes: xlabel='artistName'>"
      ]
     },
     "execution_count": 390,
     "metadata": {},
     "output_type": "execute_result"
    },
    {
     "data": {
      "image/png": "[encoded data removed]",
      "text/plain": [
       "<Figure size 640x480 with 1 Axes>"
      ]
     },
     "metadata": {},
     "output_type": "display_data"
    }
   ],
   "source": [
    "df_artist_time = df[['artistName', 'secPlayed']]\n",
    "df_artist_time = df_artist_time.groupby(['artistName']).sum().nlargest(10, 'secPlayed') \n",
    "df_artist_time.plot.bar()"
   ]
  },
  {
   "cell_type": "markdown",
   "metadata": {},
   "source": [
    "#### 2.6 Finding top 10 favorite songs\n",
    "Find the top `ten` songs with the highest play time. Create a graph visualizing the results."
   ]
  },
  {
   "cell_type": "code",
   "execution_count": 391,
   "metadata": {},
   "outputs": [
    {
     "data": {
      "text/plain": [
       "<Axes: xlabel='trackName'>"
      ]
     },
     "execution_count": 391,
     "metadata": {},
     "output_type": "execute_result"
    },
    {
     "data": {
      "image/png": "[encoded data removed]",
      "text/plain": [
       "<Figure size 640x480 with 1 Axes>"
      ]
     },
     "metadata": {},
     "output_type": "display_data"
    }
   ],
   "source": [
    "df_track_time = df[['trackName', 'secPlayed']]\n",
    "df_track_time = df_track_time.groupby(['trackName']).sum().nlargest(10, 'secPlayed') \n",
    "df_track_time.plot.bar()"
   ]
  },
  {
   "cell_type": "markdown",
   "metadata": {},
   "source": [
    "## Part 3: Further analysis"
   ]
  },
  {
   "cell_type": "markdown",
   "metadata": {},
   "source": [
    "#### 3.0 Average listening time by hour\n",
    "Generate a plot that displays the average amount of time that music is played for each hour of the day."
   ]
  },
  {
   "cell_type": "code",
   "execution_count": 392,
   "metadata": {},
   "outputs": [
    {
     "data": {
      "text/plain": [
       "<Axes: xlabel='hour'>"
      ]
     },
     "execution_count": 392,
     "metadata": {},
     "output_type": "execute_result"
    },
    {
     "data": {
      "image/png": "[encoded data removed]",
      "text/plain": [
       "<Figure size 640x480 with 1 Axes>"
      ]
     },
     "metadata": {},
     "output_type": "display_data"
    }
   ],
   "source": [
    "df['endTime'] = pd.to_datetime(df['endTime'])\n",
    "df['hour'] = df['endTime'].dt.hour\n",
    "hour = df['secPlayed'].groupby(df['hour']).mean()\n",
    "hour.plot.bar()"
   ]
  },
  {
   "cell_type": "markdown",
   "metadata": {},
   "source": [
    "#### 3.1 Morning music and evening music\n",
    "I think many people find that some types of music are more suitable for morning listening and some music is more suitable for evening listening. Create a plot that compares the play time of the artists *Leonard Cohen* and *Rage Against the Machine* on an hour-by-hour basis. See if there are any differences."
   ]
  },
  {
   "cell_type": "code",
   "execution_count": 393,
   "metadata": {},
   "outputs": [
    {
     "data": {
      "text/plain": [
       "<Axes: xlabel='hour'>"
      ]
     },
     "execution_count": 393,
     "metadata": {},
     "output_type": "execute_result"
    },
    {
     "data": {
      "image/png": "[encoded data removed]",
      "text/plain": [
       "<Figure size 640x480 with 1 Axes>"
      ]
     },
     "metadata": {},
     "output_type": "display_data"
    }
   ],
   "source": [
    "leonard = df[df['artistName'] == 'Leonard Cohen']\n",
    "leonard = leonard['secPlayed'].groupby(leonard['hour']).mean()\n",
    "\n",
    "rage = df[df['artistName'] == 'Rage Against The Machine']\n",
    "rage = rage['secPlayed'].groupby(rage['hour']).mean()\n",
    "\n",
    "df_leonard_rage = pd.concat([leonard, rage], axis=1)\n",
    "df_leonard_rage.plot.bar()\n"
   ]
  },
  {
   "cell_type": "markdown",
   "metadata": {},
   "source": [
    "#### 3.2 Analysing skipped songs\n",
    "Determining whether a song was skipped or listened to can be challenging. For this analysis, we'll simplify by defining a skipped song as any track played for less than 30 seconds. Conversely, a song played for 30 seconds or more is considered listened to. \\\n",
    " Add a column to your DataFrame to reflect this criteria: set the value to 1 if the song was played for less than 30 seconds (indicating a skipped song), and 0 if it was played for 30 seconds or longer."
   ]
  },
  {
   "cell_type": "code",
   "execution_count": 394,
   "metadata": {},
   "outputs": [],
   "source": [
    "df['skipped'] = df['secPlayed'] < 30\n",
    "df['skipped'] = df['skipped'].astype(int)"
   ]
  },
  {
   "cell_type": "markdown",
   "metadata": {},
   "source": [
    "#### 3.3 Plotting skipped songs\n",
    "Create a pie-chart that compares amount of skipped songs to amount of non-skipped songs."
   ]
  },
  {
   "cell_type": "code",
   "execution_count": 395,
   "metadata": {},
   "outputs": [
    {
     "data": {
      "text/plain": [
       "156539"
      ]
     },
     "execution_count": 395,
     "metadata": {},
     "output_type": "execute_result"
    },
    {
     "data": {
      "image/png": "[encoded data removed]",
      "text/plain": [
       "<Figure size 640x480 with 1 Axes>"
      ]
     },
     "metadata": {},
     "output_type": "display_data"
    }
   ],
   "source": [
    "df['skipped'].value_counts().plot.pie(labels=['Skipped', 'Not Skipped'], autopct='%1.1f%%')\n",
    "df['skipped'].count()"
   ]
  },
  {
   "cell_type": "markdown",
   "metadata": {},
   "source": [
    "#### 3.4 Artists by percentage of songs skipped\n",
    "For each artist in the dataset, calculate which percentage of their songs was skipped. Store this information in a new DataFrame called `df_skipped`. Store the percentage of skipped songs in a new column named `SkipRate`\\\n",
    "\\\n",
    "**Example**: If an artist has **100** songs in your dataset and **25** of these were skipped, the percentage of skipped songs for this artist would be $\\frac{25}{100}=25\\%$"
   ]
  },
  {
   "cell_type": "code",
   "execution_count": 396,
   "metadata": {},
   "outputs": [],
   "source": [
    "df_grouped = df.groupby('artistName')['skipped'].mean()\n",
    "df_skipped = pd.DataFrame(df_grouped)\n",
    "df_skipped.columns = ['SkipRate']"
   ]
  },
  {
   "cell_type": "markdown",
   "metadata": {},
   "source": [
    "#### 3.5 Comparing artists by skip-rate \n",
    "Find the `three` top artists with the lowest skip-rate and the `three` with the highest. Print their names, along with their skip-rate."
   ]
  },
  {
   "cell_type": "code",
   "execution_count": 397,
   "metadata": {},
   "outputs": [
    {
     "name": "stdout",
     "output_type": "stream",
     "text": [
      "               SkipRate\n",
      "artistName             \n",
      "Gloria Gaynor  0.000000\n",
      "Roc Boyz       0.111111\n",
      "LACES          0.142857\n",
      "                SkipRate\n",
      "artistName              \n",
      "G Mills              1.0\n",
      "Ramón                1.0\n",
      "Kelly Clarkson       1.0\n"
     ]
    }
   ],
   "source": [
    "df_skipped = df_skipped.sort_values(by='SkipRate')\n",
    "print(df_skipped.head(3))\n",
    "print(df_skipped.tail(3))"
   ]
  },
  {
   "cell_type": "markdown",
   "metadata": {},
   "source": [
    "## Part 4: God Is a Data Scientist - The Ariana Deep-Dive"
   ]
  },
  {
   "cell_type": "markdown",
   "metadata": {},
   "source": [
    "#### 4.0 Ariana-DataFrame: \n",
    "Create a new DataFrame called *df_ariana*, containing only rows with music by Ariana Grande."
   ]
  },
  {
   "cell_type": "code",
   "execution_count": 399,
   "metadata": {},
   "outputs": [],
   "source": [
    "df_ariana = df[df['artistName'] == 'Ariana Grande']"
   ]
  },
  {
   "cell_type": "markdown",
   "metadata": {},
   "source": [
    "#### 4.1 Average skip rate\n",
    "Create a histogram of the distribution of the skip-rate values of the different artists in your DataFrame  `df_skipped`, with skip rates on one axis and number of artists on the other. \\\n",
    "\\\n",
    "Then, retrieve the skip rate for Ariana Grande from your DataFrame `df_skipped`. Run the code in the cell below. Where on this distribution does Ariana Grande fall? Do I skip her songs more than average, or less?"
   ]
  },
  {
   "cell_type": "code",
   "execution_count": 400,
   "metadata": {},
   "outputs": [
    {
     "data": {
      "image/png": "[encoded data removed]",
      "text/plain": [
       "<Figure size 640x480 with 1 Axes>"
      ]
     },
     "metadata": {},
     "output_type": "display_data"
    }
   ],
   "source": [
    "plt.hist(df_skipped['SkipRate'], bins=100)\n",
    "plt.axvline(df_skipped.loc['Ariana Grande', 'SkipRate'], color='red')\n",
    "plt.show()\n"
   ]
  },
  {
   "cell_type": "markdown",
   "metadata": {},
   "source": [
    "### Part 4: Questions\n",
    "Q1: Did I skip a lot of Ariana Grande's songs, or did I not, compared to the rest of the dataset? \\\n",
    "Q2: What might be some possible reasons for Ariana Grande to be my nr.1 artist?"
   ]
  },
  {
   "cell_type": "markdown",
   "metadata": {},
   "source": [
    "### Part 4: Answers\n",
    "\n",
    "#### Q1\n",
    "Ariana Grande is one of the most skipped artist, with almost 90% of the songs skipped.\n",
    "\n",
    "#### Q2\n",
    "One reson might be that she is the one with the most songs started.  \n",
    "Another is that even when she is mostly skipped, all the small chunks of seconds add up when she has a lot of songs. All these small add ups become a large time.\n"
   ]
  }
 ],
 "metadata": {
  "kernelspec": {
   "display_name": "Python 3 (ipykernel)",
   "language": "python",
   "name": "python3"
  },
  "language_info": {
   "codemirror_mode": {
    "name": "ipython",
    "version": 3
   },
   "file_extension": ".py",
   "mimetype": "text/x-python",
   "name": "python",
   "nbconvert_exporter": "python",
   "pygments_lexer": "ipython3",
   "version": "3.9.6"
  }
 },
 "nbformat": 4,
 "nbformat_minor": 4
}
