{
 "cells": [
  {
   "cell_type": "markdown",
   "metadata": {},
   "source": [
    "# CA4"
   ]
  },
  {
   "cell_type": "markdown",
   "metadata": {},
   "source": [
    "### Imports"
   ]
  },
  {
   "cell_type": "code",
   "execution_count": 16,
   "metadata": {},
   "outputs": [],
   "source": [
    "import pandas as pd\n",
    "import numpy as np\n",
    "import seaborn as sns\n",
    "import matplotlib.pyplot as plt\n",
    "from sklearn.ensemble import RandomForestClassifier\n",
    "from sklearn.preprocessing import LabelEncoder\n",
    "from sklearn.preprocessing import StandardScaler\n",
    "from sklearn.decomposition import PCA\n",
    "from sklearn.impute import SimpleImputer\n",
    "from sklearn.pipeline import Pipeline\n",
    "from sklearn.model_selection import train_test_split\n"
   ]
  },
  {
   "cell_type": "markdown",
   "metadata": {},
   "source": [
    "### Reading data"
   ]
  },
  {
   "cell_type": "code",
   "execution_count": 17,
   "metadata": {},
   "outputs": [],
   "source": [
    "\n",
    "df = pd.read_csv('assets/train.csv')\n",
    "df = df.drop(df.columns[0], axis=1)\n",
    "df.set_index('index', inplace=True)\n"
   ]
  },
  {
   "cell_type": "markdown",
   "metadata": {},
   "source": [
    "### Data exploration and visualisation"
   ]
  },
  {
   "cell_type": "code",
   "execution_count": 18,
   "metadata": {},
   "outputs": [
    {
     "name": "stdout",
     "output_type": "stream",
     "text": [
      "       AFP (ng/mL)    ALP (U/L)   ALT (U/L)  AST (U/L)  Age  Albumin (g/dL)  \\\n",
      "index                                                                         \n",
      "1124     13.571425  1653.138489   40.405592  45.598427    4        4.477126   \n",
      "1188     13.649342  1940.518305   21.336986  34.064095   55        3.190724   \n",
      "530      10.898943  1557.369920   29.665496  16.044488   30        4.506351   \n",
      "686      13.872275  1273.840525  142.418649  64.204257    0        3.665655   \n",
      "296      10.102457  1461.622515   22.437303  23.940205   59        4.005109   \n",
      "\n",
      "      Alcohol_Use (yes/no)  Bilirubin (mg/dL)  CRP (mg/L) Diabetes (yes/no)  \\\n",
      "index                                                                         \n",
      "1124                   yes           0.541997    1.002121                no   \n",
      "1188                   yes           1.199063    0.582746                no   \n",
      "530                     no           0.740952    1.670375                no   \n",
      "686                    yes           1.939879    1.220646                no   \n",
      "296                     no           0.769535    0.139863                no   \n",
      "\n",
      "       Fibroscan (kPa)   GGT (U/L)  Gender  Hemoglobin (g/dL)  IL-6 (pg/mL)  \\\n",
      "index                                                                         \n",
      "1124          5.501881  311.253072    MALE          16.135463      2.889380   \n",
      "1188         13.902151  264.586392    MALE          17.500000      3.397879   \n",
      "530           6.961641   66.247224  FEMALE          15.576672      0.631166   \n",
      "686           9.193268   78.838414    MALE          16.726358      0.862067   \n",
      "296          11.827885  246.940466  FEMALE          15.842692      0.768858   \n",
      "\n",
      "      Obesity (yes/no)    PT/INR  Platelets (10^9/L)  RBC (10^12/L)  \\\n",
      "index                                                                 \n",
      "1124               yes  0.943259          226.065391       4.318084   \n",
      "1188               yes  1.294771          179.156442       7.356666   \n",
      "530                yes  0.676823          135.027224       4.368957   \n",
      "686                 no  1.144827          318.548138       4.371368   \n",
      "296                yes  0.864858          172.978364       4.267202   \n",
      "\n",
      "       Serum_Ammonia (μmol/L)  Serum_Copper (μg/dL)  Serum_Creatinine (mg/dL)  \\\n",
      "index                                                                           \n",
      "1124                 3.189234             75.262136                  2.569954   \n",
      "1188                 3.058630            100.960356                  3.024642   \n",
      "530                  3.570581             92.105008                  2.219844   \n",
      "686                  3.502727            103.060635                  1.704282   \n",
      "296                  0.886997            108.727152                  2.656926   \n",
      "\n",
      "       Serum_Iron (μg/dL)  Serum_Lactate (mmol/L)  Serum_Urea (mg/dL)  \\\n",
      "index                                                                   \n",
      "1124            97.242495                2.923385           26.696110   \n",
      "1188           128.597676                2.719966           23.021218   \n",
      "530             98.026938                3.267757           20.123808   \n",
      "686             63.105133                1.937625           36.436855   \n",
      "296             89.966713                1.979801           20.036074   \n",
      "\n",
      "       Serum_Zinc (μg/dL)  TIBC (μg/dL)  Transferrin_Saturation (%)  \\\n",
      "index                                                                 \n",
      "1124            96.124260    315.439318                   30.827639   \n",
      "1188            50.554650    268.492437                   47.896200   \n",
      "530             82.900681    312.107620                   31.408057   \n",
      "686             72.360010    182.506010                   34.577016   \n",
      "296             63.216136    212.261519                   42.384844   \n",
      "\n",
      "       WBC (10^9/L)        pH                  Diagnosis  \n",
      "index                                                     \n",
      "1124       4.180007  6.163600                    Healthy  \n",
      "1188       4.590995  5.244266                  Cirrhosis  \n",
      "530        4.524580  5.769592                    Healthy  \n",
      "686        4.234483  5.982228  Drug-induced Liver Injury  \n",
      "296        4.306892  4.837404                    Healthy  \n",
      "       AFP (ng/mL)    ALP (U/L)   ALT (U/L)   AST (U/L)         Age  \\\n",
      "count   703.000000   703.000000  703.000000  703.000000  703.000000   \n",
      "mean     23.804227  1624.337402   58.262199   46.855946   27.206259   \n",
      "std      54.938736   517.367426   36.372428   30.838523   23.632185   \n",
      "min     -22.836893   546.609117  -14.313734  -16.215535    0.000000   \n",
      "25%       8.029213  1229.735749   29.939330   24.163363    5.000000   \n",
      "50%      10.195074  1553.771408   48.857238   38.720602   23.000000   \n",
      "75%      12.656547  1931.433883   84.583900   70.023374   45.000000   \n",
      "max     449.925304  3769.332343  178.226798  154.173314   86.000000   \n",
      "\n",
      "       Albumin (g/dL)  Bilirubin (mg/dL)  CRP (mg/L)  Fibroscan (kPa)  \\\n",
      "count      703.000000         703.000000  703.000000       703.000000   \n",
      "mean         4.155568           1.056841    2.021190         8.899789   \n",
      "std          0.432317           0.617223    2.638333         3.822241   \n",
      "min          2.625845           0.130291    0.075035         2.323530   \n",
      "25%          3.880943           0.634089    0.651623         6.273365   \n",
      "50%          4.166995           0.801903    1.238123         7.966800   \n",
      "75%          4.437957           1.396853    2.449216        10.588808   \n",
      "max          5.447072           3.712815   32.356076        26.691648   \n",
      "\n",
      "         GGT (U/L)  Hemoglobin (g/dL)  IL-6 (pg/mL)      PT/INR  \\\n",
      "count   703.000000         703.000000    703.000000  703.000000   \n",
      "mean    347.457426          14.991915      2.183306    1.014315   \n",
      "std     371.157528           1.652296      3.492901    0.209335   \n",
      "min      17.056568          12.000000      0.035582    0.433569   \n",
      "25%     131.695741          13.591511      0.602189    0.863510   \n",
      "50%     244.400101          14.983087      1.140564    1.014773   \n",
      "75%     419.660403          16.402387      2.387814    1.144923   \n",
      "max    3426.981860          17.500000     51.538598    1.675477   \n",
      "\n",
      "       Platelets (10^9/L)  RBC (10^12/L)  Serum_Ammonia (μmol/L)  \\\n",
      "count          703.000000     703.000000              703.000000   \n",
      "mean           240.722221       4.524108                3.273395   \n",
      "std             54.805068       0.965855                1.744136   \n",
      "min             54.591991       4.253306                0.511873   \n",
      "25%            203.083320       4.291477                2.091598   \n",
      "50%            239.117244       4.319126                2.821860   \n",
      "75%            280.836276       4.370707                4.054184   \n",
      "max            386.424987      14.249130               17.399216   \n",
      "\n",
      "       Serum_Copper (μg/dL)  Serum_Creatinine (mg/dL)  Serum_Iron (μg/dL)  \\\n",
      "count            703.000000                703.000000          703.000000   \n",
      "mean             105.754889                  2.901900          105.901892   \n",
      "std               26.159403                  0.647559           33.699054   \n",
      "min               30.099096                  1.525736            8.328732   \n",
      "25%               88.632128                  2.441051           84.737590   \n",
      "50%              102.842960                  2.844621          104.670558   \n",
      "75%              118.722674                  3.275906          125.937089   \n",
      "max              227.617474                  5.729147          223.915730   \n",
      "\n",
      "       Serum_Lactate (mmol/L)  Serum_Urea (mg/dL)  Serum_Zinc (μg/dL)  \\\n",
      "count              703.000000          703.000000          703.000000   \n",
      "mean                 2.867523           21.440875           78.021500   \n",
      "std                  0.936050            6.946169           15.826557   \n",
      "min                  0.711997            7.641927           34.170231   \n",
      "25%                  2.211484           16.422281           66.617374   \n",
      "50%                  2.700933           20.668951           78.024893   \n",
      "75%                  3.393898           25.096926           88.452369   \n",
      "max                  8.010270           51.875943          120.279580   \n",
      "\n",
      "       TIBC (μg/dL)  Transferrin_Saturation (%)  WBC (10^9/L)          pH  \n",
      "count    703.000000                  703.000000    703.000000  703.000000  \n",
      "mean     288.708468                   38.220427      5.000254    6.072044  \n",
      "std       54.223207                   15.438507      2.025527    0.642783  \n",
      "min      102.896996                    2.496813      4.129884    4.416868  \n",
      "25%      248.832647                   28.598082      4.243197    5.724293  \n",
      "50%      290.278094                   35.617342      4.331605    6.085019  \n",
      "75%      326.508987                   46.630605      4.762898    6.485114  \n",
      "max      484.581225                  156.858874     21.195702    8.368522  \n"
     ]
    }
   ],
   "source": [
    "# to get all the columns\n",
    "pd.set_option('display.max_columns', None)\n",
    "              \n",
    "# Print the mean, median, and standard deviation of each column\n",
    "print(df.head())\n",
    "print(df.describe())\n"
   ]
  },
  {
   "cell_type": "markdown",
   "metadata": {},
   "source": [
    "### Data cleaning"
   ]
  },
  {
   "cell_type": "markdown",
   "metadata": {},
   "source": [
    "#### Turn categorical variables into numerical"
   ]
  },
  {
   "cell_type": "code",
   "execution_count": 19,
   "metadata": {},
   "outputs": [
    {
     "name": "stdout",
     "output_type": "stream",
     "text": [
      "       AFP (ng/mL)    ALP (U/L)   ALT (U/L)  AST (U/L)  Age  Albumin (g/dL)  \\\n",
      "index                                                                         \n",
      "1124     13.571425  1653.138489   40.405592  45.598427    4        4.477126   \n",
      "1188     13.649342  1940.518305   21.336986  34.064095   55        3.190724   \n",
      "530      10.898943  1557.369920   29.665496  16.044488   30        4.506351   \n",
      "686      13.872275  1273.840525  142.418649  64.204257    0        3.665655   \n",
      "296      10.102457  1461.622515   22.437303  23.940205   59        4.005109   \n",
      "\n",
      "       Alcohol_Use (yes/no)  Bilirubin (mg/dL)  CRP (mg/L)  Diabetes (yes/no)  \\\n",
      "index                                                                           \n",
      "1124                      1           0.541997    1.002121                  0   \n",
      "1188                      1           1.199063    0.582746                  0   \n",
      "530                       0           0.740952    1.670375                  0   \n",
      "686                       1           1.939879    1.220646                  0   \n",
      "296                       0           0.769535    0.139863                  0   \n",
      "\n",
      "       Fibroscan (kPa)   GGT (U/L)  Gender  Hemoglobin (g/dL)  IL-6 (pg/mL)  \\\n",
      "index                                                                         \n",
      "1124          5.501881  311.253072       0          16.135463      2.889380   \n",
      "1188         13.902151  264.586392       0          17.500000      3.397879   \n",
      "530           6.961641   66.247224       1          15.576672      0.631166   \n",
      "686           9.193268   78.838414       0          16.726358      0.862067   \n",
      "296          11.827885  246.940466       1          15.842692      0.768858   \n",
      "\n",
      "       Obesity (yes/no)    PT/INR  Platelets (10^9/L)  RBC (10^12/L)  \\\n",
      "index                                                                  \n",
      "1124                  1  0.943259          226.065391       4.318084   \n",
      "1188                  1  1.294771          179.156442       7.356666   \n",
      "530                   1  0.676823          135.027224       4.368957   \n",
      "686                   0  1.144827          318.548138       4.371368   \n",
      "296                   1  0.864858          172.978364       4.267202   \n",
      "\n",
      "       Serum_Ammonia (μmol/L)  Serum_Copper (μg/dL)  Serum_Creatinine (mg/dL)  \\\n",
      "index                                                                           \n",
      "1124                 3.189234             75.262136                  2.569954   \n",
      "1188                 3.058630            100.960356                  3.024642   \n",
      "530                  3.570581             92.105008                  2.219844   \n",
      "686                  3.502727            103.060635                  1.704282   \n",
      "296                  0.886997            108.727152                  2.656926   \n",
      "\n",
      "       Serum_Iron (μg/dL)  Serum_Lactate (mmol/L)  Serum_Urea (mg/dL)  \\\n",
      "index                                                                   \n",
      "1124            97.242495                2.923385           26.696110   \n",
      "1188           128.597676                2.719966           23.021218   \n",
      "530             98.026938                3.267757           20.123808   \n",
      "686             63.105133                1.937625           36.436855   \n",
      "296             89.966713                1.979801           20.036074   \n",
      "\n",
      "       Serum_Zinc (μg/dL)  TIBC (μg/dL)  Transferrin_Saturation (%)  \\\n",
      "index                                                                 \n",
      "1124            96.124260    315.439318                   30.827639   \n",
      "1188            50.554650    268.492437                   47.896200   \n",
      "530             82.900681    312.107620                   31.408057   \n",
      "686             72.360010    182.506010                   34.577016   \n",
      "296             63.216136    212.261519                   42.384844   \n",
      "\n",
      "       WBC (10^9/L)        pH  Diagnosis  \n",
      "index                                     \n",
      "1124       4.180007  6.163600          4  \n",
      "1188       4.590995  5.244266          1  \n",
      "530        4.524580  5.769592          4  \n",
      "686        4.234483  5.982228          2  \n",
      "296        4.306892  4.837404          4  \n"
     ]
    }
   ],
   "source": [
    "# Turn the Categorical variables into number variables\n",
    "gender_mapping = {'MALE': 0, 'FEMALE': 1}\n",
    "df['Gender'] = df['Gender'].map(gender_mapping)\n",
    "\n",
    "yes_no_mapping = {'no': 0, 'yes': 1}\n",
    "df['Alcohol_Use (yes/no)'] = df['Alcohol_Use (yes/no)'].map(yes_no_mapping)\n",
    "df['Diabetes (yes/no)'] = df['Diabetes (yes/no)'].map(yes_no_mapping)\n",
    "df['Obesity (yes/no)'] = df['Obesity (yes/no)'].map(yes_no_mapping)\n",
    "\n",
    "# Turn classes into numbers\n",
    "label_to_number = LabelEncoder()\n",
    "y = label_to_number.fit_transform(df['Diagnosis']) # \".fit_transform\" is short for \".fit\" and then \".transform\"\n",
    "# Need to convert back to data frame because the encoder returns a numpy array\n",
    "df['Diagnosis'] = y\n",
    "print(df.head())\n",
    "\n"
   ]
  },
  {
   "cell_type": "markdown",
   "metadata": {},
   "source": [
    "#### Remove missing values and outliers\n",
    "\n"
   ]
  },
  {
   "cell_type": "code",
   "execution_count": 20,
   "metadata": {},
   "outputs": [
    {
     "name": "stdout",
     "output_type": "stream",
     "text": [
      "False\n",
      "       AFP (ng/mL)    ALP (U/L)   ALT (U/L)   AST (U/L)         Age  \\\n",
      "count   537.000000   537.000000  537.000000  537.000000  537.000000   \n",
      "mean     12.550558  1591.921787   56.386133   44.419644   26.523277   \n",
      "std      17.218337   476.643376   35.314774   28.938694   23.210344   \n",
      "min      -1.065096   546.609117  -14.313734  -16.215535    0.000000   \n",
      "25%       8.010506  1220.243515   29.531079   23.492038    5.000000   \n",
      "50%      10.021189  1540.782027   46.226501   36.634017   22.000000   \n",
      "75%      12.322068  1910.561747   81.497014   65.208701   44.000000   \n",
      "max     186.491245  3128.094369  158.652550  129.741247   84.000000   \n",
      "\n",
      "       Albumin (g/dL)  Alcohol_Use (yes/no)  Bilirubin (mg/dL)  CRP (mg/L)  \\\n",
      "count      537.000000            537.000000         537.000000  537.000000   \n",
      "mean         4.171773              0.331471           1.044317    1.770910   \n",
      "std          0.417379              0.471181           0.596103    1.671890   \n",
      "min          2.853035              0.000000           0.130291    0.075035   \n",
      "25%          3.888762              0.000000           0.640989    0.637202   \n",
      "50%          4.174246              0.000000           0.801745    1.212910   \n",
      "75%          4.454763              1.000000           1.374961    2.247412   \n",
      "max          5.439320              1.000000           2.860790    9.705536   \n",
      "\n",
      "       Diabetes (yes/no)  Fibroscan (kPa)    GGT (U/L)      Gender  \\\n",
      "count         537.000000       537.000000   537.000000  537.000000   \n",
      "mean            0.225326         8.219094   298.469912    0.553073   \n",
      "std             0.418186         2.923804   233.732843    0.497639   \n",
      "min             0.000000         2.323530    17.056568    0.000000   \n",
      "25%             0.000000         6.114992   128.721794    0.000000   \n",
      "50%             0.000000         7.698456   234.806886    1.000000   \n",
      "75%             0.000000         9.564470   398.518110    1.000000   \n",
      "max             1.000000        18.402388  1266.389193    1.000000   \n",
      "\n",
      "       Hemoglobin (g/dL)  IL-6 (pg/mL)  Obesity (yes/no)      PT/INR  \\\n",
      "count         537.000000    537.000000        537.000000  537.000000   \n",
      "mean           14.950475      1.856564          0.418994    1.002558   \n",
      "std             1.645103      2.042999          0.493855    0.205777   \n",
      "min            12.000000      0.035582          0.000000    0.433569   \n",
      "25%            13.505038      0.568724          0.000000    0.860101   \n",
      "50%            14.967814      1.134690          0.000000    1.004639   \n",
      "75%            16.365567      2.209932          1.000000    1.134459   \n",
      "max            17.500000     12.443967          1.000000    1.587081   \n",
      "\n",
      "       Platelets (10^9/L)  RBC (10^12/L)  Serum_Ammonia (μmol/L)  \\\n",
      "count          537.000000     537.000000              537.000000   \n",
      "mean           246.764048       4.382650                3.145402   \n",
      "std             54.380355       0.277720                1.527293   \n",
      "min             84.605002       4.253519                0.511873   \n",
      "25%            208.806934       4.290461                2.041571   \n",
      "50%            244.970345       4.316102                2.774629   \n",
      "75%            287.937810       4.357073                3.991084   \n",
      "max            386.424987       7.356666                8.277736   \n",
      "\n",
      "       Serum_Copper (μg/dL)  Serum_Creatinine (mg/dL)  Serum_Iron (μg/dL)  \\\n",
      "count            537.000000                537.000000          537.000000   \n",
      "mean             104.426193                  2.826792          104.028047   \n",
      "std               23.639971                  0.591385           31.944693   \n",
      "min               30.099096                  1.525736            8.328732   \n",
      "25%               88.637102                  2.392968           84.313816   \n",
      "50%              102.750837                  2.761623          104.107300   \n",
      "75%              118.616403                  3.215792          123.857475   \n",
      "max              177.902574                  4.718234          197.436877   \n",
      "\n",
      "       Serum_Lactate (mmol/L)  Serum_Urea (mg/dL)  Serum_Zinc (μg/dL)  \\\n",
      "count              537.000000          537.000000          537.000000   \n",
      "mean                 2.746414           20.800366           79.328403   \n",
      "std                  0.807349            6.219378           15.714218   \n",
      "min                  1.077842            7.641927           34.170231   \n",
      "25%                  2.168217           15.943450           67.835888   \n",
      "50%                  2.626146           20.130969           79.280082   \n",
      "75%                  3.206180           24.264766           89.602302   \n",
      "max                  5.529469           40.330927          120.279580   \n",
      "\n",
      "       TIBC (μg/dL)  Transferrin_Saturation (%)  WBC (10^9/L)          pH  \\\n",
      "count    537.000000                  537.000000    537.000000  537.000000   \n",
      "mean     294.139311                   36.551044      4.655329    6.068510   \n",
      "std       51.934810                   13.201782      0.887918    0.624924   \n",
      "min      164.471669                    2.496813      4.129884    4.416868   \n",
      "25%      257.385050                   27.583014      4.237550    5.733289   \n",
      "50%      295.800489                   35.135322      4.313748    6.093707   \n",
      "75%      331.761651                   44.686392      4.649182    6.490822   \n",
      "max      443.103895                   77.759184     10.615857    7.749192   \n",
      "\n",
      "        Diagnosis  \n",
      "count  537.000000  \n",
      "mean     3.324022  \n",
      "std      1.593843  \n",
      "min      0.000000  \n",
      "25%      2.000000  \n",
      "50%      4.000000  \n",
      "75%      4.000000  \n",
      "max      6.000000  \n"
     ]
    }
   ],
   "source": [
    "# Check for nan values\n",
    "print(df.isnull().values.any())\n",
    "\n",
    "for i in df.columns:\n",
    "    z_scores_clean = (df[i] - np.mean(df[i])) / np.std(df[i])    \n",
    "    df = df[np.abs(z_scores_clean) < 3]\n",
    "\n",
    "\n",
    "print(df.describe())\n"
   ]
  },
  {
   "cell_type": "markdown",
   "metadata": {},
   "source": [
    "#### Scale data"
   ]
  },
  {
   "cell_type": "code",
   "execution_count": 21,
   "metadata": {},
   "outputs": [],
   "source": [
    "y = df['Diagnosis']\n",
    "X = df.drop(columns=['Diagnosis'])\n",
    "\n",
    "# Standardize the data\n",
    "scaler = StandardScaler()\n",
    "X = scaler.fit_transform(X)"
   ]
  },
  {
   "cell_type": "markdown",
   "metadata": {},
   "source": [
    "### Data preprocessing and visualisation"
   ]
  },
  {
   "cell_type": "markdown",
   "metadata": {},
   "source": [
    "#### PCA for dimensionality reduction"
   ]
  },
  {
   "cell_type": "code",
   "execution_count": 22,
   "metadata": {},
   "outputs": [],
   "source": [
    "\n",
    "# Perform PCA\n",
    "pca = PCA(n_components=None)\n",
    "X_pca = pca.fit_transform(X)"
   ]
  },
  {
   "cell_type": "code",
   "execution_count": 33,
   "metadata": {},
   "outputs": [
    {
     "data": {
      "image/png": "[encoded data removed]",
      "text/plain": [
       "<Figure size 640x480 with 2 Axes>"
      ]
     },
     "metadata": {},
     "output_type": "display_data"
    },
    {
     "name": "stdout",
     "output_type": "stream",
     "text": [
      "Number of PCA for 90% of the variance: 23\n"
     ]
    }
   ],
   "source": [
    "# Plot explained variance and cumulative sum of explained variance\n",
    "fig, ax1 = plt.subplots()\n",
    "ax2 = ax1.twinx()\n",
    "ax1.bar(np.arange(len(pca.explained_variance_ratio_)), pca.explained_variance_ratio_, alpha=0.7, color='orange')\n",
    "ax2.step(np.arange(len(pca.explained_variance_ratio_)), np.cumsum(pca.explained_variance_ratio_), c='#028571')\n",
    "ax1.set_xlabel('Principal Components')\n",
    "ax1.set_ylabel('Explained Variance Ratio', color='orange')\n",
    "ax2.set_ylabel('Cumulative Explained Variance Ratio', color='#028571')\n",
    "plt.title('explained variance ratios \\nand cumulative sum of ratios')\n",
    "plt.show()\n",
    "\n",
    "# Print how many pca is needed for 90% of the variance\n",
    "cumulative_variance = np.cumsum(pca.explained_variance_ratio_)\n",
    "n_pca = np.argmax(cumulative_variance >= 0.9)\n",
    "print(f'Number of PCA for 90% of the variance: {n_pca}')"
   ]
  },
  {
   "cell_type": "markdown",
   "metadata": {},
   "source": [
    "### Modelling"
   ]
  },
  {
   "cell_type": "code",
   "execution_count": null,
   "metadata": {},
   "outputs": [],
   "source": [
    "pipeline = Pipeline([\n",
    "    ('scaling', StandardScaler()),\n",
    "    ('lda', LDA(n_components=2)),\n",
    "    ('clf', LogisticRegression(solver='liblinear', multi_class='auto'))\n",
    "])\n"
   ]
  },
  {
   "cell_type": "markdown",
   "metadata": {},
   "source": [
    "### Final evaluation"
   ]
  },
  {
   "cell_type": "code",
   "execution_count": null,
   "metadata": {},
   "outputs": [],
   "source": []
  },
  {
   "cell_type": "markdown",
   "metadata": {},
   "source": [
    "### Kaggle submission"
   ]
  },
  {
   "cell_type": "code",
   "execution_count": null,
   "metadata": {},
   "outputs": [],
   "source": []
  }
 ],
 "metadata": {
  "kernelspec": {
   "display_name": "Python 3",
   "language": "python",
   "name": "python3"
  },
  "language_info": {
   "codemirror_mode": {
    "name": "ipython",
    "version": 3
   },
   "file_extension": ".py",
   "mimetype": "text/x-python",
   "name": "python",
   "nbconvert_exporter": "python",
   "pygments_lexer": "ipython3",
   "version": "3.9.6"
  }
 },
 "nbformat": 4,
 "nbformat_minor": 2
}
